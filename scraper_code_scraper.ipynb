{
 "cells": [
  {
   "cell_type": "markdown",
   "metadata": {},
   "source": [
    "# Scraping UW CS faculty homepages"
   ]
  },
  {
   "cell_type": "markdown",
   "metadata": {},
   "source": [
    "## Pre-Step: System setup \n",
    "\n",
    "Before we start, make sure to install the required libraries\n",
    "    \n",
    "    pip install bs4\n",
    "    pip install selenium\n",
    "\n",
    "Since UW's website has some javascript rendered HTML content, we'll be using Selenium for scraping the content loaded dynamically by javascript. For this,you would also need to download a selenium supported browser webdriver.\n",
    "\n",
    "|University Name | Unversity of Washington|\n",
    "|----------------|------------------------|\n",
    "|Department Name | Computer Science |\n",
    "|Faculty Home Page | https://www.cs.washington.edu/people/faculty |\n",
    "\n",
    "e.g. For Chrome, download the appropriate webdriver from here: http://chromedriver.chromium.org/downloads, unzip it and save in current directory."
   ]
  },
  {
   "cell_type": "code",
   "execution_count": 1,
   "metadata": {},
   "outputs": [],
   "source": [
    "from bs4 import BeautifulSoup\n",
    "from selenium import webdriver \n",
    "from selenium.webdriver.chrome.options import Options\n",
    "import re \n",
    "import urllib"
   ]
  },
  {
   "cell_type": "code",
   "execution_count": 2,
   "metadata": {},
   "outputs": [],
   "source": [
    "#create a webdriver object and set options for headless browsing\n",
    "options = Options()\n",
    "options.headless = True\n",
    "browser = webdriver.Chrome('./chromedriver',options=options)"
   ]
  },
  {
   "cell_type": "markdown",
   "metadata": {},
   "source": [
    "## Step 1: Design Helper Functions\n",
    "\n",
    "If you visit UW's CS Faculty Directory Listing: https://www.cs.washington.edu/people/faculty , you'll notice that it has all the faculty listed there. \n",
    "\n",
    "Faculty Profile Page can be found in two places:\n",
    "1. Clicking on a faculty's Name  -> Leading to official faculty page.\n",
    "2. Clicking on a faculty's Photo -> Leading to personal home page if he or she has.\n",
    "\n",
    "We will use the personal home page for detail scraping if he or she has. Otherwise, we will scrape it from the official faculty page.\n",
    "\n",
    "Before we start scraping, we'll define some helper functions"
   ]
  },
  {
   "cell_type": "code",
   "execution_count": 23,
   "metadata": {},
   "outputs": [],
   "source": [
    "#uses webdriver object to execute javascript code and get dynamically loaded webcontent\n",
    "def get_js_soup(url,browser):\n",
    "    browser.get(url)\n",
    "    res_html = browser.execute_script('return document.body.innerHTML')\n",
    "    soup = BeautifulSoup(res_html,'html.parser') #beautiful soup object to be used for parsing html content\n",
    "    return soup\n",
    "\n",
    "#tidies extracted text \n",
    "def process_bio(bio):\n",
    "    bio = bio.encode('ascii',errors='ignore').decode('utf-8')       #removes non-ascii characters\n",
    "    bio = re.sub('\\s+',' ',bio)       #repalces repeated whitespace characters with single space\n",
    "    bio = bio.strip() #trim the space at the begining and ending\n",
    "    return bio\n",
    "\n",
    "''' More tidying\n",
    "Sometimes the text extracted HTML webpage may contain javascript code and some style elements. \n",
    "This function removes script and style tags from HTML so that extracted text does not contain them.\n",
    "'''\n",
    "def remove_script(soup):\n",
    "    for script in soup([\"script\", \"style\"]):\n",
    "        script.decompose()\n",
    "    return soup"
   ]
  },
  {
   "cell_type": "markdown",
   "metadata": {},
   "source": [
    "## Step 2: Scrape Faculty Listing\n",
    "\n",
    "Now, let's start scraping.\n",
    "\n",
    "First, let's get links to all Faculty Profile pages by scraping the Directory Listing. By using Chrome developer tools (F12), it's easier to find the links within the HTML content and layout. For my target url.\n",
    "\n",
    "1. Each Faculty is showing in a <div\\> with class of \"row directory-row\"\n",
    "2. Faculty profile fields is under <div\\> with class of \"directory-name\"\n",
    "3. Link can be found under <a\\> tag with attribute of \"href\"\n",
    "\n",
    "\n",
    "![faculty_urls](img/uw_faculty_urls.PNG)\n",
    "\n",
    "\n",
    "\n",
    "Now we can specify exactly what needs to be extracted from the directory listing page"
   ]
  },
  {
   "cell_type": "code",
   "execution_count": 24,
   "metadata": {},
   "outputs": [],
   "source": [
    "#extracts all Faculty Profile page urls from the Directory Listing Page\n",
    "def scrape_dir_page(dir_url,browser):\n",
    "    print ('-'*20,'Scraping directory page','-'*20)\n",
    "    faculty_links = []\n",
    "    faculty_base_url = 'https://www.cs.washington.edu'\n",
    "    #execute js on webpage to load faculty listings on webpage and get ready to parse the loaded HTML \n",
    "    soup = get_js_soup(dir_url,browser)     \n",
    "    #get list of all <div> of class 'col-sm-2 directory-photo-container'\n",
    "    for faculty_div in soup.find_all('div', class_='row directory-row'):\n",
    "        official_link_holder = faculty_div.find('div',class_='col-sm-2 directory-photo-container')\n",
    "        #url returned is relative, so we need to add base url\n",
    "        official_link = faculty_base_url + official_link_holder.find('a')['href'] \n",
    "        \n",
    "        home_page_holder = faculty_div.find('div',class_='directory-name')\n",
    "        home_page_link = home_page_holder.find('a')['href']\n",
    "        if (not home_page_link.startswith('https://')) & (not home_page_link.startswith('http://')):\n",
    "            home_page_link = faculty_base_url + home_page_link\n",
    "        \n",
    "        links = {}\n",
    "        links[\"official\"] = official_link.strip('/')\n",
    "        links[\"homepage\"] = home_page_link.strip('/').replace('http://www.cs.washington.edu/people/faculty/','https://www.cs.washington.edu/people/faculty/')\n",
    "        \n",
    "        faculty_links.append(links)\n",
    "        \n",
    "    print ('-'*20,'Found {} faculty profile urls'.format(len(faculty_links)),'-'*20)\n",
    "    return faculty_links"
   ]
  },
  {
   "cell_type": "code",
   "execution_count": 5,
   "metadata": {},
   "outputs": [
    {
     "name": "stdout",
     "output_type": "stream",
     "text": [
      "-------------------- Scraping directory page --------------------\n",
      "-------------------- Found 83 faculty profile urls --------------------\n"
     ]
    }
   ],
   "source": [
    "#url of directory listings of CS faculty in UW\n",
    "dir_url = 'https://www.cs.washington.edu/people/faculty' \n",
    "faculty_links = scrape_dir_page(dir_url,browser)"
   ]
  },
  {
   "cell_type": "code",
   "execution_count": 13,
   "metadata": {
    "scrolled": true
   },
   "outputs": [
    {
     "name": "stdout",
     "output_type": "stream",
     "text": [
      "{'official': 'https://www.cs.washington.edu/people/faculty/althoff', 'homepage': 'http://www.timalthoff.com'}\n",
      "{'official': 'https://www.cs.washington.edu/people/faculty/etzioni', 'homepage': 'http://homes.cs.washington.edu/~etzioni'}\n",
      "[{'official': 'https://www.cs.washington.edu/people/faculty/althoff', 'homepage': 'http://www.timalthoff.com'}, {'official': 'https://www.cs.washington.edu/people/faculty/anderson', 'homepage': 'https://www.cs.washington.edu/people/faculty/anderson'}, {'official': 'https://www.cs.washington.edu/people/faculty/rea', 'homepage': 'http://homes.cs.washington.edu/~rea'}, {'official': 'https://www.cs.washington.edu/people/faculty/tom', 'homepage': 'https://www.cs.washington.edu/people/faculty/tom'}, {'official': 'https://www.cs.washington.edu/people/faculty/magda', 'homepage': 'https://www.cs.washington.edu/people/faculty/magda'}, {'official': 'https://www.cs.washington.edu/people/faculty/beame', 'homepage': 'https://www.cs.washington.edu/people/faculty/beame'}, {'official': 'https://www.cs.washington.edu/people/faculty/bodik', 'homepage': 'https://homes.cs.washington.edu/~bodik'}, {'official': 'https://www.cs.washington.edu/people/faculty/bboots', 'homepage': 'https://www.cc.gatech.edu/~bboots3'}, {'official': 'https://www.cs.washington.edu/people/faculty/bricker', 'homepage': 'https://homes.cs.washington.edu/~bricker'}, {'official': 'https://www.cs.washington.edu/people/faculty/mcakmak', 'homepage': 'http://www.mayacakmak.com'}, {'official': 'https://www.cs.washington.edu/people/faculty/luisceze', 'homepage': 'https://homes.cs.washington.edu/~luisceze'}, {'official': 'https://www.cs.washington.edu/people/faculty/yejin', 'homepage': 'http://homes.cs.washington.edu/~yejin'}, {'official': 'https://www.cs.washington.edu/people/faculty/curless', 'homepage': 'https://www.cs.washington.edu/people/faculty/curless'}, {'official': 'https://www.cs.washington.edu/people/faculty/pedrod', 'homepage': 'http://homes.cs.washington.edu/~pedrod'}, {'official': 'https://www.cs.washington.edu/people/faculty/mernst', 'homepage': 'https://www.cs.washington.edu/people/faculty/mernst'}, {'official': 'https://www.cs.washington.edu/people/faculty/etzioni', 'homepage': 'http://homes.cs.washington.edu/~etzioni'}, {'official': 'https://www.cs.washington.edu/people/faculty/ali', 'homepage': 'https://www.cs.washington.edu/people/faculty/ali'}, {'official': 'https://www.cs.washington.edu/people/faculty/jfogarty', 'homepage': 'https://www.cs.washington.edu/people/faculty/jfogarty'}, {'official': 'https://www.cs.washington.edu/people/faculty/fox', 'homepage': 'http://homes.cs.washington.edu/~fox'}, {'official': 'https://www.cs.washington.edu/people/faculty/ebfox', 'homepage': 'https://homes.cs.washington.edu/~ebfox'}, {'official': 'https://www.cs.washington.edu/people/faculty/jonf', 'homepage': 'http://www.cs.umd.edu/~jonf'}, {'official': 'https://www.cs.washington.edu/people/faculty/gshyam', 'homepage': 'https://www.cs.washington.edu/people/faculty/gshyam'}, {'official': 'https://www.cs.washington.edu/people/faculty/djg', 'homepage': 'http://homes.cs.washington.edu/~djg'}, {'official': 'https://www.cs.washington.edu/people/faculty/guestrin', 'homepage': 'https://www.cs.washington.edu/people/faculty/guestrin'}, {'official': 'https://www.cs.washington.edu/people/faculty/hannaneh', 'homepage': 'https://homes.cs.washington.edu/~hannaneh'}, {'official': 'https://www.cs.washington.edu/people/faculty/jheer', 'homepage': 'http://homes.cs.washington.edu/~jheer'}, {'official': 'https://www.cs.washington.edu/people/faculty/kheimerl', 'homepage': 'http://kurti.sh'}, {'official': 'https://www.cs.washington.edu/people/faculty/bruceh', 'homepage': 'https://www.cs.washington.edu/people/faculty/bruceh'}, {'official': 'https://www.cs.washington.edu/people/faculty/jhsia', 'homepage': 'http://homes.cs.washington.edu/~jhsia'}, {'official': 'https://www.cs.washington.edu/people/faculty/jamieson', 'homepage': 'https://homes.cs.washington.edu/~jamieson/about.html'}, {'official': 'https://www.cs.washington.edu/people/faculty/rjust', 'homepage': 'https://homes.cs.washington.edu/~rjust'}, {'official': 'https://www.cs.washington.edu/people/faculty/sham', 'homepage': 'https://www.cs.washington.edu/people/faculty/sham'}, {'official': 'https://www.cs.washington.edu/people/faculty/karlin', 'homepage': 'https://homes.cs.washington.edu/~karlin'}, {'official': 'https://www.cs.washington.edu/people/faculty/kemelmi', 'homepage': 'https://homes.cs.washington.edu/~kemelmi'}, {'official': 'https://www.cs.washington.edu/people/faculty/yoshi', 'homepage': 'http://homes.cs.washington.edu/~yoshi'}, {'official': 'https://www.cs.washington.edu/people/faculty/arvind', 'homepage': 'https://www.cs.washington.edu/people/faculty/arvind'}, {'official': 'https://www.cs.washington.edu/people/faculty/lazowska', 'homepage': 'https://www.cs.washington.edu/people/faculty/lazowska'}, {'official': 'https://www.cs.washington.edu/people/faculty/jrl', 'homepage': 'http://www.cs.washington.edu/homes/jrl'}, {'official': 'https://www.cs.washington.edu/people/faculty/suinlee', 'homepage': 'http://suinlee.cs.washington.edu'}, {'official': 'https://www.cs.washington.edu/people/faculty/yintat', 'homepage': 'http://yintat.com'}, {'official': 'https://www.cs.washington.edu/people/faculty/levy', 'homepage': 'https://www.cs.washington.edu/people/faculty/levy'}, {'official': 'https://www.cs.washington.edu/people/faculty/rachel', 'homepage': 'https://homes.cs.washington.edu/~rachel'}, {'official': 'https://www.cs.washington.edu/people/faculty/kevinl', 'homepage': 'https://kevinl.info'}, {'official': 'https://www.cs.washington.edu/people/faculty/ratul', 'homepage': 'https://ratul.org'}, {'official': 'https://www.cs.washington.edu/people/faculty/jmankoff', 'homepage': 'https://make4all.org/portfolio/jennifer-mankoff'}, {'official': 'https://www.cs.washington.edu/people/faculty/mones', 'homepage': 'https://homes.cs.washington.edu/~mones/index.html'}, {'official': 'https://www.cs.washington.edu/people/faculty/jamiemmt', 'homepage': 'http://jamiemorgenstern.com'}, {'official': 'https://www.cs.washington.edu/people/faculty/sewoong', 'homepage': 'https://homes.cs.washington.edu/~sewoong'}, {'official': 'https://www.cs.washington.edu/people/faculty/oskin', 'homepage': 'https://www.cs.washington.edu/people/faculty/oskin'}, {'official': 'https://www.cs.washington.edu/people/faculty/shayan', 'homepage': 'http://homes.cs.washington.edu/~shayan'}, {'official': 'https://www.cs.washington.edu/people/faculty/shwetak', 'homepage': 'https://homes.cs.washington.edu/~shwetak'}, {'official': 'https://www.cs.washington.edu/people/faculty/perkins', 'homepage': 'https://www.cs.washington.edu/people/faculty/perkins'}, {'official': 'https://www.cs.washington.edu/people/faculty/zoran', 'homepage': 'https://homes.cs.washington.edu/~zoran'}, {'official': 'https://www.cs.washington.edu/people/faculty/anuprao', 'homepage': 'https://www.cs.washington.edu/people/faculty/anuprao'}, {'official': 'https://www.cs.washington.edu/people/faculty/rao', 'homepage': 'https://homes.cs.washington.edu/~rao'}, {'official': 'https://www.cs.washington.edu/people/faculty/ajratner', 'homepage': 'https://ajratner.github.io'}, {'official': 'https://www.cs.washington.edu/people/faculty/reges', 'homepage': 'https://www.cs.washington.edu/people/faculty/reges'}, {'official': 'https://www.cs.washington.edu/people/faculty/reinecke', 'homepage': 'https://www.cs.washington.edu/people/faculty/reinecke'}, {'official': 'https://www.cs.washington.edu/people/faculty/franzi', 'homepage': 'http://www.franziroesner.com'}, {'official': 'https://www.cs.washington.edu/people/faculty/rothvoss', 'homepage': 'https://www.cs.washington.edu/people/faculty/rothvoss'}, {'official': 'https://www.cs.washington.edu/people/faculty/ruzzo', 'homepage': 'https://www.cs.washington.edu/people/faculty/ruzzo'}, {'official': 'https://www.cs.washington.edu/people/faculty/hschafer', 'homepage': 'https://homes.cs.washington.edu/~hschafer'}, {'official': 'https://www.cs.washington.edu/people/faculty/adriana', 'homepage': 'https://homes.cs.washington.edu/~adriana'}, {'official': 'https://www.cs.washington.edu/people/faculty/seelig', 'homepage': 'http://www.seeliglab.org'}, {'official': 'https://www.cs.washington.edu/people/faculty/seitz', 'homepage': 'http://homes.cs.washington.edu/~seitz'}, {'official': 'https://www.cs.washington.edu/people/faculty/shapiro', 'homepage': 'http://homes.cs.washington.edu/~shapiro'}, {'official': 'https://www.cs.washington.edu/people/faculty/jrs', 'homepage': 'https://www.cs.washington.edu/people/faculty/jrs'}, {'official': 'https://www.cs.washington.edu/people/faculty/nasmith', 'homepage': 'https://homes.cs.washington.edu/~nasmith'}, {'official': 'https://www.cs.washington.edu/people/faculty/siddh', 'homepage': 'https://homes.cs.washington.edu/~siddh'}, {'official': 'https://www.cs.washington.edu/people/faculty/suciu', 'homepage': 'https://www.cs.washington.edu/people/faculty/suciu'}, {'official': 'https://www.cs.washington.edu/people/faculty/tanimoto', 'homepage': 'https://www.cs.washington.edu/people/faculty/tanimoto'}, {'official': 'https://www.cs.washington.edu/people/faculty/ztatlock', 'homepage': 'http://homes.cs.washington.edu/~ztatlock'}, {'official': 'https://www.cs.washington.edu/people/faculty/profmbt', 'homepage': 'http://darksilicon.net'}, {'official': 'https://www.cs.washington.edu/people/faculty/tessaro', 'homepage': 'http://homes.cs.washington.edu/~tessaro'}, {'official': 'https://www.cs.washington.edu/people/faculty/tompa', 'homepage': 'https://www.cs.washington.edu/people/faculty/tompa'}, {'official': 'https://www.cs.washington.edu/people/faculty/emina', 'homepage': 'http://homes.cs.washington.edu/~emina'}, {'official': 'https://www.cs.washington.edu/people/faculty/xi', 'homepage': 'https://www.cs.washington.edu/people/faculty/xi'}, {'official': 'https://www.cs.washington.edu/people/faculty/yuliangw', 'homepage': 'https://www.cs.washington.edu/people/faculty/yuliangw'}, {'official': 'https://www.cs.washington.edu/people/faculty/weld', 'homepage': 'https://www.cs.washington.edu/people/faculty/weld'}, {'official': 'https://www.cs.washington.edu/people/faculty/brettwo', 'homepage': 'https://homes.cs.washington.edu/~brettwo'}, {'official': 'https://www.cs.washington.edu/people/faculty/zahorjan', 'homepage': 'http://homes.cs.washington.edu/~zahorjan/homepage'}, {'official': 'https://www.cs.washington.edu/people/faculty/lsz', 'homepage': 'https://www.cs.washington.edu/people/faculty/lsz'}, {'official': 'https://www.cs.washington.edu/people/faculty/axz', 'homepage': 'http://people.csail.mit.edu/axz'}]\n"
     ]
    }
   ],
   "source": [
    "print(faculty_links[0])\n",
    "print(faculty_links[15])\n",
    "print(faculty_links)"
   ]
  },
  {
   "cell_type": "markdown",
   "metadata": {},
   "source": [
    "## Step 3: Scrape Faculty Official Page & Homepage\n",
    "\n",
    "Above script returns both the official pages and personal home pages for each faculty. (They may be the same if the faculty has no personal home page.)\n",
    "\n",
    "\n",
    "Ofcourse, there might still be a few cases where the faculty does not provide his or her personal home page. In these cases, we will treat the official faculty page as the homepage.\n",
    "\n",
    "\n",
    "In order to get the correct or the best profile page for each faculty. Here's the design:\n",
    "\n",
    "1. Scrape the official page e.g. https://www.cs.washington.edu/people/faculty/althoff\n",
    "\n",
    "    > Get text from the Contact </div> with class of \"row directory-row contact-block\"\n",
    "    \n",
    "    > Get text from the main Section with class of \"block block-system clearfix\"\n",
    "    \n",
    " ![faculty_urls](img/uw_faculty_detail.PNG)\n",
    "2. Scrape the personal homepage if provided and different with the official one. e.g. http://www.timalthoff.com\n",
    "\n",
    "And here's the algorithms to decide the best profile page.\n",
    "1. If official page and homepage are the same, use the only url as candiate to get the biography.\n",
    "2. If a different url provided as the personal homepage. We will use the personal homepage if \n",
    " > Text scraped from personal home page is longer.*\n",
    "    \n",
    "\n",
    "\n"
   ]
  },
  {
   "cell_type": "code",
   "execution_count": 25,
   "metadata": {},
   "outputs": [],
   "source": [
    "def scrape_faculty_page(links,browser):\n",
    "    homepage = links['homepage']\n",
    "    official = links['official']\n",
    "    \n",
    "    bio = ''\n",
    "    bio_official = ''\n",
    "    bio_homepage = ''\n",
    "    bio_url = ''\n",
    "    \n",
    "    bio_soup = remove_script(get_js_soup(official,browser)) \n",
    "        \n",
    "    #we're only interested in some parts of the profile page namely the address\n",
    "    #and information listed under the Overview, Research, Publication, etc\n",
    "    contact_div = bio_soup.find('div',class_='row directory-row contact-block')\n",
    "    detail_section = bio_soup.find('section',class_='block block-system clearfix')\n",
    "    if (contact_div is None) | (detail_section is None): \n",
    "        #if the official page has redirect or custom UI, I will scrape all texts\n",
    "        bio_official = bio_soup.get_text(separator=' ')\n",
    "    else:\n",
    "        bio_official += contact_div.get_text(separator=' ') + ' '\n",
    "        bio_official += detail_section.get_text(separator=' ')\n",
    "    bio_official = process_bio(bio_official)\n",
    "        \n",
    "    #if the home page is provide and not the same with official one\n",
    "    #try to scrape the content.\n",
    "    if homepage != official:\n",
    "        bio_soup = remove_script(get_js_soup(homepage,browser)) \n",
    "        \n",
    "        #get all the text from homepage(bio) since there's no easy to filter noise like navigation bar etc\n",
    "        bio_homepage += process_bio(bio_soup.get_text(separator=' ')) \n",
    "        \n",
    "    # by default, we will use the bio from official page\n",
    "    # however if the faculty has personal homepage, we will try to use the one with more content\n",
    "    if (homepage != official ) & (len(bio_homepage) > len(bio_official)):\n",
    "        bio = bio_homepage\n",
    "        bio_url = homepage\n",
    "    else:\n",
    "        bio = bio_official\n",
    "        bio_url = official\n",
    "        \n",
    "    return bio_url,bio"
   ]
  },
  {
   "cell_type": "code",
   "execution_count": 26,
   "metadata": {},
   "outputs": [
    {
     "name": "stdout",
     "output_type": "stream",
     "text": [
      "-------------------- Scraping faculty url 1/83 --------------------\n",
      "-------------------- Scraping faculty url 2/83 --------------------\n",
      "-------------------- Scraping faculty url 3/83 --------------------\n",
      "-------------------- Scraping faculty url 4/83 --------------------\n",
      "-------------------- Scraping faculty url 5/83 --------------------\n",
      "-------------------- Scraping faculty url 6/83 --------------------\n",
      "-------------------- Scraping faculty url 7/83 --------------------\n",
      "-------------------- Scraping faculty url 8/83 --------------------\n",
      "-------------------- Scraping faculty url 9/83 --------------------\n",
      "-------------------- Scraping faculty url 10/83 --------------------\n",
      "-------------------- Scraping faculty url 11/83 --------------------\n",
      "-------------------- Scraping faculty url 12/83 --------------------\n",
      "-------------------- Scraping faculty url 13/83 --------------------\n",
      "-------------------- Scraping faculty url 14/83 --------------------\n",
      "-------------------- Scraping faculty url 15/83 --------------------\n",
      "-------------------- Scraping faculty url 16/83 --------------------\n",
      "-------------------- Scraping faculty url 17/83 --------------------\n",
      "-------------------- Scraping faculty url 18/83 --------------------\n",
      "-------------------- Scraping faculty url 19/83 --------------------\n",
      "-------------------- Scraping faculty url 20/83 --------------------\n",
      "-------------------- Scraping faculty url 21/83 --------------------\n",
      "-------------------- Scraping faculty url 22/83 --------------------\n",
      "-------------------- Scraping faculty url 23/83 --------------------\n",
      "-------------------- Scraping faculty url 24/83 --------------------\n",
      "-------------------- Scraping faculty url 25/83 --------------------\n",
      "-------------------- Scraping faculty url 26/83 --------------------\n",
      "-------------------- Scraping faculty url 27/83 --------------------\n",
      "-------------------- Scraping faculty url 28/83 --------------------\n",
      "-------------------- Scraping faculty url 29/83 --------------------\n",
      "-------------------- Scraping faculty url 30/83 --------------------\n",
      "-------------------- Scraping faculty url 31/83 --------------------\n",
      "-------------------- Scraping faculty url 32/83 --------------------\n",
      "-------------------- Scraping faculty url 33/83 --------------------\n",
      "-------------------- Scraping faculty url 34/83 --------------------\n",
      "-------------------- Scraping faculty url 35/83 --------------------\n",
      "-------------------- Scraping faculty url 36/83 --------------------\n",
      "-------------------- Scraping faculty url 37/83 --------------------\n",
      "-------------------- Scraping faculty url 38/83 --------------------\n",
      "-------------------- Scraping faculty url 39/83 --------------------\n",
      "-------------------- Scraping faculty url 40/83 --------------------\n",
      "-------------------- Scraping faculty url 41/83 --------------------\n",
      "-------------------- Scraping faculty url 42/83 --------------------\n",
      "-------------------- Scraping faculty url 43/83 --------------------\n",
      "-------------------- Scraping faculty url 44/83 --------------------\n",
      "-------------------- Scraping faculty url 45/83 --------------------\n",
      "-------------------- Scraping faculty url 46/83 --------------------\n",
      "-------------------- Scraping faculty url 47/83 --------------------\n",
      "-------------------- Scraping faculty url 48/83 --------------------\n",
      "-------------------- Scraping faculty url 49/83 --------------------\n",
      "-------------------- Scraping faculty url 50/83 --------------------\n",
      "-------------------- Scraping faculty url 51/83 --------------------\n",
      "-------------------- Scraping faculty url 52/83 --------------------\n",
      "-------------------- Scraping faculty url 53/83 --------------------\n",
      "-------------------- Scraping faculty url 54/83 --------------------\n",
      "-------------------- Scraping faculty url 55/83 --------------------\n",
      "-------------------- Scraping faculty url 56/83 --------------------\n",
      "-------------------- Scraping faculty url 57/83 --------------------\n",
      "-------------------- Scraping faculty url 58/83 --------------------\n",
      "-------------------- Scraping faculty url 59/83 --------------------\n",
      "-------------------- Scraping faculty url 60/83 --------------------\n",
      "-------------------- Scraping faculty url 61/83 --------------------\n",
      "-------------------- Scraping faculty url 62/83 --------------------\n",
      "-------------------- Scraping faculty url 63/83 --------------------\n",
      "-------------------- Scraping faculty url 64/83 --------------------\n",
      "-------------------- Scraping faculty url 65/83 --------------------\n",
      "-------------------- Scraping faculty url 66/83 --------------------\n",
      "-------------------- Scraping faculty url 67/83 --------------------\n",
      "-------------------- Scraping faculty url 68/83 --------------------\n",
      "-------------------- Scraping faculty url 69/83 --------------------\n",
      "-------------------- Scraping faculty url 70/83 --------------------\n",
      "-------------------- Scraping faculty url 71/83 --------------------\n",
      "-------------------- Scraping faculty url 72/83 --------------------\n",
      "-------------------- Scraping faculty url 73/83 --------------------\n",
      "-------------------- Scraping faculty url 74/83 --------------------\n",
      "-------------------- Scraping faculty url 75/83 --------------------\n",
      "-------------------- Scraping faculty url 76/83 --------------------\n",
      "-------------------- Scraping faculty url 77/83 --------------------\n",
      "-------------------- Scraping faculty url 78/83 --------------------\n",
      "-------------------- Scraping faculty url 79/83 --------------------\n",
      "-------------------- Scraping faculty url 80/83 --------------------\n",
      "-------------------- Scraping faculty url 81/83 --------------------\n",
      "-------------------- Scraping faculty url 82/83 --------------------\n",
      "-------------------- Scraping faculty url 83/83 --------------------\n"
     ]
    }
   ],
   "source": [
    "#Scrape all faculty homepages using profile page urls\n",
    "bio_urls, bios = [],[]\n",
    "tot_urls = len(faculty_links)\n",
    "for i,link in enumerate(faculty_links):\n",
    "    print ('-'*20,'Scraping faculty url {}/{}'.format(i+1,tot_urls),'-'*20)\n",
    "    bio_url,bio = scrape_faculty_page(link,browser)\n",
    "    bio_urls.append(bio_url)\n",
    "    bios.append(bio)"
   ]
  },
  {
   "cell_type": "markdown",
   "metadata": {},
   "source": [
    "## Post-Step: Save Results\n",
    "Finally, write urls and extracted bio to txt files"
   ]
  },
  {
   "cell_type": "code",
   "execution_count": 20,
   "metadata": {},
   "outputs": [],
   "source": [
    "def write_lst(lst,file_):\n",
    "    with open(file_,'w') as f:\n",
    "        for l in lst:\n",
    "            f.write(l)\n",
    "            f.write('\\n')"
   ]
  },
  {
   "cell_type": "code",
   "execution_count": 28,
   "metadata": {},
   "outputs": [],
   "source": [
    "bio_urls_file = 'bio_urls.txt'\n",
    "bios_file = 'bios.txt'\n",
    "write_lst(bio_urls,bio_urls_file)\n",
    "write_lst(bios,bios_file)"
   ]
  },
  {
   "cell_type": "code",
   "execution_count": null,
   "metadata": {},
   "outputs": [],
   "source": []
  }
 ],
 "metadata": {
  "kernelspec": {
   "display_name": "Python 3",
   "language": "python",
   "name": "python3"
  },
  "language_info": {
   "codemirror_mode": {
    "name": "ipython",
    "version": 3
   },
   "file_extension": ".py",
   "mimetype": "text/x-python",
   "name": "python",
   "nbconvert_exporter": "python",
   "pygments_lexer": "ipython3",
   "version": "3.7.3"
  }
 },
 "nbformat": 4,
 "nbformat_minor": 2
}
